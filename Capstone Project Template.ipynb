{
 "cells": [
  {
   "cell_type": "markdown",
   "metadata": {},
   "source": [
    "# Data Engineering Capstone Project\n",
    "\n",
    "#### Project Summary\n",
    "The Organization for Tourism Development (OTD) want to analyze migration flux in USA, in order to find insights to significantly and sustainably develop the tourism in USA.\n",
    "\n",
    "To support their core idea they have identified a set of analysis/queries they want to run on the raw data available.\n",
    "\n",
    "The project deals with building a data pipeline, to go from raw data to the data insights on the migration flux.\n",
    "\n",
    "The raw data are gathered from different sources, saved in files and made available for download.\n",
    "\n",
    "Then saved into a temp s3 file to mimic cloud\n",
    "\n",
    "The project follows the follow steps:\n",
    "* Step 1: Scope the Project and Gather Data\n",
    "* Step 2: Explore and Assess the Data\n",
    "* Step 3: Define the Data Model\n",
    "* Step 4: Run ETL to Model the Data\n",
    "* Step 5: Complete Project Write Up"
   ]
  },
  {
   "cell_type": "code",
   "execution_count": null,
   "metadata": {},
   "outputs": [],
   "source": [
    "# Import the Pandas library for data analysis\n",
    "import pandas as pd\n",
    "\n",
    "# Import the re and os modules for regular expressions and operating system interfaces\n",
    "import re\n",
    "import os\n",
    "\n",
    "# Import the matplotlib.pyplot module for data visualization\n",
    "import matplotlib.pyplot as plt\n",
    "\n",
    "# Import classes from the pyspark.sql module for working with PySpark DataFrames\n",
    "from pyspark.sql import *\n",
    "from pyspark.sql.functions import *\n",
    "from pyspark.sql.functions import col, sum as spark_sum\n",
    "from pyspark.sql.types import *\n",
    "\n",
    "import configparser\n",
    "\n",
    "import boto3"
   ]
  },
  {
   "cell_type": "markdown",
   "metadata": {},
   "source": [
    "### Step 1: Scope the Project and Gather Data\n",
    "\n",
    "#### Scope \n",
    "- Explore and clean three data sets and one database. Then, break down the immigration database into smaller tables and load them into an S3 bucket.\n",
    "\n",
    "\n",
    "#### Describe and Gather Data \n",
    "\n",
    "    1- I94 Immigration Data: This data comes from the US National Tourism and Trade Office.\n",
    "    \n",
    "    2- World Temperature Data: This dataset came from Kaggle.\n",
    "    \n",
    "    3- U.S. City Demographic Data: This data comes from OpenSoft.\n",
    "    \n",
    "    4- Airport Code Table: This is a simple table of airport codes and corresponding cities.\n",
    "\n",
    "- The end solution is to upload the tables from immigration databse into s3.\n",
    "\n",
    "- The tools is pyspark and AWS.\n",
    "\n"
   ]
  },
  {
   "cell_type": "code",
   "execution_count": null,
   "metadata": {},
   "outputs": [],
   "source": [
    "# This code creates a new SparkSession with custom configuration options for reading SAS data and working with S3 data. \n",
    "# It also enables Hive support.\n",
    "spark = SparkSession.builder\\\n",
    "    .config(\"spark.jars\",\"https://repo1.maven.org/maven2/com/epam/parso/2.0.8/parso-2.0.8.jar,https://repos.spark-packages.org/saurfang/spark-sas7bdat/2.0.0-s_2.11/spark-sas7bdat-2.0.0-s_2.11.jar\")\\\n",
    "    .config(\"spark.jars.packages\",\"org.apache.hadoop:hadoop-aws:2.7.0\")\\\n",
    "    .enableHiveSupport()\\\n",
    "    .getOrCreate()"
   ]
  },
  {
   "cell_type": "code",
   "execution_count": null,
   "metadata": {},
   "outputs": [],
   "source": [
    "# Set the path to the immigration dataset\n",
    "IMMIGRATION_DATASET_PATH = '../../data/18-83510-I94-Data-2016/'\n",
    "\n",
    "# Get a list of all files in the dataset directory\n",
    "filelist = os.listdir(IMMIGRATION_DATASET_PATH)\n",
    "\n",
    "# Print the number of files in the dataset\n",
    "print(\"The dataset contains {} files\".format(len(filelist)))"
   ]
  },
  {
   "cell_type": "code",
   "execution_count": null,
   "metadata": {},
   "outputs": [],
   "source": [
    "# Iterate over the list of files in the dataset directory\n",
    "for file in filelist:\n",
    "    # Print the name of the current file\n",
    "    print(file)"
   ]
  },
  {
   "cell_type": "markdown",
   "metadata": {},
   "source": [
    "### I94 Immigration Data"
   ]
  },
  {
   "cell_type": "code",
   "execution_count": null,
   "metadata": {},
   "outputs": [],
   "source": [
    "# Construct the file path\n",
    "file_path = '../../data/18-83510-I94-Data-2016/i94_dec16_sub.sas7bdat'\n",
    "# Read the file using the com.github.saurfang.sas.spark format and persist it in memory\n",
    "immigration_df = spark.read.format('com.github.saurfang.sas.spark').load(file_path).persist()"
   ]
  },
  {
   "cell_type": "code",
   "execution_count": null,
   "metadata": {},
   "outputs": [],
   "source": [
    "# Access the first DataFrame\n",
    "immigration_df.limit(5).toPandas().head()"
   ]
  },
  {
   "cell_type": "code",
   "execution_count": null,
   "metadata": {},
   "outputs": [],
   "source": [
    "# Print the schema of the first PySpark DataFrame\n",
    "immigration_df.printSchema()"
   ]
  },
  {
   "cell_type": "code",
   "execution_count": null,
   "metadata": {},
   "outputs": [],
   "source": [
    "def transform_df(df):\n",
    "    # Select all columns and add two new columns with the date conversions\n",
    "    df = df.selectExpr(\"*\", \"to_date(dtadfile, 'yyyyMMdd') as added_date\",\n",
    "                       \"to_date(dtaddto, 'MMddyyyy') as admission_date\")\n",
    "    \n",
    "    @udf(returnType=DateType())\n",
    "    def convert_to_datetime(date) -> DateType:\n",
    "        \"\"\"Convert timestamp to yyyy-mm-dd format.\"\"\"\n",
    "        if date is not None:\n",
    "            return (pd.Timestamp(\"1960-1-1\") + pd.to_timedelta(date, unit=\"D\")).date()\n",
    "\n",
    "    df = df.withColumn(\"arrival_date\", convert_to_datetime(df[\"arrdate\"])).distinct()\n",
    "    df = df.withColumn(\"departure_date\", convert_to_datetime(df[\"depdate\"]))\n",
    "\n",
    "    # Define a user-defined function to convert a column to integer type\n",
    "    toInt = udf(lambda x: int(x) if x is not None else x, IntegerType())\n",
    "\n",
    "    # Loop through the columns and their data types\n",
    "    for colname, coltype in df.dtypes:\n",
    "        # If the column data type is double\n",
    "        if coltype == 'double':\n",
    "            # Use the withColumn method to apply the toInt UDF to the column\n",
    "            df = df.withColumn(colname, toInt(col(colname)))\n",
    "    \n",
    "    return df"
   ]
  },
  {
   "cell_type": "code",
   "execution_count": null,
   "metadata": {
    "scrolled": false
   },
   "outputs": [],
   "source": [
    "# Convert immigration_df in the data frame list\n",
    "immigration_df = transform_df(immigration_df)"
   ]
  },
  {
   "cell_type": "code",
   "execution_count": null,
   "metadata": {},
   "outputs": [],
   "source": [
    "immigration_df.printSchema()"
   ]
  },
  {
   "cell_type": "markdown",
   "metadata": {},
   "source": [
    "### Temperature Data"
   ]
  },
  {
   "cell_type": "code",
   "execution_count": null,
   "metadata": {},
   "outputs": [],
   "source": [
    "# This is file path\n",
    "Temp_file_path = '../../data2/GlobalLandTemperaturesByCity.csv'\n",
    "# Read the CSV file into a PySpark DataFrame\n",
    "Temp_df = spark.read.csv(Temp_file_path, header=True, inferSchema=True)"
   ]
  },
  {
   "cell_type": "code",
   "execution_count": null,
   "metadata": {
    "scrolled": true
   },
   "outputs": [],
   "source": [
    "# Display the first 5 rows of the Temperature DataFrame\n",
    "Temp_df.limit(5).toPandas().head(5)"
   ]
  },
  {
   "cell_type": "code",
   "execution_count": null,
   "metadata": {},
   "outputs": [],
   "source": [
    "# Print the schema of the Temperature DataFrame\n",
    "Temp_df.printSchema()"
   ]
  },
  {
   "cell_type": "markdown",
   "metadata": {},
   "source": [
    "### U.S. City Demographic Data"
   ]
  },
  {
   "cell_type": "code",
   "execution_count": null,
   "metadata": {},
   "outputs": [],
   "source": [
    "# Read the CSV file into a PySpark DataFrame\n",
    "city_df = spark.read.option(\"header\", True).options(delimiter=';').csv(\"us-cities-demographics.csv\")"
   ]
  },
  {
   "cell_type": "code",
   "execution_count": null,
   "metadata": {},
   "outputs": [],
   "source": [
    "# Display the first 5 rows of the city DataFrame\n",
    "city_df.limit(5).toPandas().head(5)"
   ]
  },
  {
   "cell_type": "code",
   "execution_count": null,
   "metadata": {},
   "outputs": [],
   "source": [
    "# Print the schema of the city DataFrame\n",
    "city_df.printSchema()"
   ]
  },
  {
   "cell_type": "code",
   "execution_count": null,
   "metadata": {},
   "outputs": [],
   "source": [
    "# Convert all numbers from string into numeric type\n",
    "city_df = city_df.withColumn(\"Median Age\", col(\"Median Age\").cast(\"double\"))\n",
    "city_df = city_df.withColumn(\"Male Population\", col(\"Male Population\").cast(\"int\"))\n",
    "city_df = city_df.withColumn(\"Female Population\", col(\"Female Population\").cast(\"int\"))\n",
    "city_df = city_df.withColumn(\"Total Population\", col(\"Total Population\").cast(\"int\"))\n",
    "city_df = city_df.withColumn(\"Number of Veterans\", col(\"Number of Veterans\").cast(\"int\"))\n",
    "city_df = city_df.withColumn(\"Foreign-born\", col(\"Foreign-born\").cast(\"int\"))\n",
    "city_df = city_df.withColumn(\"Average Household Size\", col(\"Average Household Size\").cast(\"int\"))\n",
    "city_df = city_df.withColumn(\"Count\", col(\"Count\").cast(\"int\"))"
   ]
  },
  {
   "cell_type": "code",
   "execution_count": null,
   "metadata": {},
   "outputs": [],
   "source": [
    "# Print the schema of the city DataFrame\n",
    "city_df.printSchema()"
   ]
  },
  {
   "cell_type": "markdown",
   "metadata": {},
   "source": [
    "### Airport Code Table"
   ]
  },
  {
   "cell_type": "code",
   "execution_count": null,
   "metadata": {},
   "outputs": [],
   "source": [
    "# Read the CSV file into a PySpark DataFrame\n",
    "airport_codes_df = spark.read.csv('airport-codes_csv.csv', header=True, inferSchema=True)"
   ]
  },
  {
   "cell_type": "code",
   "execution_count": null,
   "metadata": {},
   "outputs": [],
   "source": [
    "# Display the first 5 rows of the airport_codes DataFrame\n",
    "airport_codes_df.limit(5).toPandas().head(5)"
   ]
  },
  {
   "cell_type": "code",
   "execution_count": null,
   "metadata": {},
   "outputs": [],
   "source": [
    "# Print the schema of the airport_codes DataFrame\n",
    "airport_codes_df.printSchema()"
   ]
  },
  {
   "cell_type": "markdown",
   "metadata": {},
   "source": [
    "### Step 2: Explore and Assess the Data\n",
    "#### Explore the Data \n",
    "Identify data quality issues, like missing values, duplicate data, etc.\n",
    "\n",
    "#### Cleaning Steps\n",
    "Document steps necessary to clean the data"
   ]
  },
  {
   "cell_type": "markdown",
   "metadata": {},
   "source": [
    "### Cleaning I94 Immigration Data"
   ]
  },
  {
   "cell_type": "code",
   "execution_count": null,
   "metadata": {},
   "outputs": [],
   "source": [
    "# Counting the rows before cleaning\n",
    "immigration_df.count()"
   ]
  },
  {
   "cell_type": "code",
   "execution_count": null,
   "metadata": {},
   "outputs": [],
   "source": [
    "def clean_immigration_data(df):\n",
    "    # Perform data cleaning steps here\n",
    "    df = df.dropna(subset=['cicid'])\n",
    "    # Drops duplicates\n",
    "    df = df.dropDuplicates()\n",
    "    return df"
   ]
  },
  {
   "cell_type": "code",
   "execution_count": null,
   "metadata": {},
   "outputs": [],
   "source": [
    "# Clean immigration_df in the data frame list\n",
    "immigration_df = clean_immigration_data(immigration_df)\n",
    "immigration_df.write.format('parquet').mode('overwrite')"
   ]
  },
  {
   "cell_type": "markdown",
   "metadata": {},
   "source": [
    "### cleaning Temperature Data "
   ]
  },
  {
   "cell_type": "code",
   "execution_count": null,
   "metadata": {},
   "outputs": [],
   "source": [
    "# Counting the rows before cleaning\n",
    "Temp_df.count()"
   ]
  },
  {
   "cell_type": "code",
   "execution_count": null,
   "metadata": {},
   "outputs": [],
   "source": [
    "def clean_temperature_data(Temp_df):\n",
    "    # Drops duplicates \n",
    "    Temp_df = Temp_df.dropDuplicates() \n",
    "    \n",
    "    # Drops the null values \n",
    "    Temp_df = Temp_df.dropna(subset=['dt']) \n",
    "    \n",
    "    # Calculate the mean value of the \"AverageTemperatureUncertainty\" column \n",
    "    Uncertainty_mean = Temp_df.select(mean(\"AverageTemperatureUncertainty\")).collect()[0][0] \n",
    "    # Fill missing values in the \"AverageTemperatureUncertainty\" column with the calculated mean value \n",
    "    Temp_df = Temp_df.na.fill(Uncertainty_mean, [\"AverageTemperatureUncertainty\"])\n",
    "    \n",
    "    # Calculate the mean value of the \"AverageTemperature\" column \n",
    "    Average_mean = Temp_df.select(mean(\"AverageTemperature\")).collect()[0][0] \n",
    "    # Fill missing values in the \"AverageTemperature\" column with the calculated mean value \n",
    "    Temp_df = Temp_df.withColumn(\"AverageTemperature\", when(col(\"AverageTemperature\").isNull(), Average_mean).otherwise(col(\"AverageTemperature\")))\n",
    "    \n",
    "    return Temp_df"
   ]
  },
  {
   "cell_type": "code",
   "execution_count": null,
   "metadata": {},
   "outputs": [],
   "source": [
    "# See if there is any null values left\n",
    "Temp_df.select([count(when(col(colname).isNull(),1)).alias(colname) for colname in Temp_df.columns]).toPandas().head()"
   ]
  },
  {
   "cell_type": "code",
   "execution_count": null,
   "metadata": {},
   "outputs": [],
   "source": [
    "# Counting the rows after cleaning\n",
    "Temp_df.count()"
   ]
  },
  {
   "cell_type": "code",
   "execution_count": null,
   "metadata": {},
   "outputs": [],
   "source": [
    "# Folder simulating an S3 bucket\n",
    "s3_temp = 'data/S3bucket_temp/clean_temp_data/'"
   ]
  },
  {
   "cell_type": "code",
   "execution_count": null,
   "metadata": {},
   "outputs": [],
   "source": [
    "# Save to parquet\n",
    "Temp_df.write.parquet(s3_temp, mode=\"overwrite\")"
   ]
  },
  {
   "cell_type": "markdown",
   "metadata": {},
   "source": [
    "### cleaning U.S. City Demographic Data"
   ]
  },
  {
   "cell_type": "code",
   "execution_count": null,
   "metadata": {},
   "outputs": [],
   "source": [
    "# Counting the rows before cleaning\n",
    "city_df.count()"
   ]
  },
  {
   "cell_type": "code",
   "execution_count": null,
   "metadata": {},
   "outputs": [],
   "source": [
    "# Counting the null values for each row in the df\n",
    "city_df.select([count(when(col(colname).isNull(),1)).alias(colname) for colname in city_df.columns]).toPandas().head()"
   ]
  },
  {
   "cell_type": "code",
   "execution_count": null,
   "metadata": {},
   "outputs": [],
   "source": [
    "def clean_city_data(df):\n",
    "    # Drops duplicates\n",
    "    df = df.dropDuplicates()\n",
    "    \n",
    "    # Drops the null values\n",
    "    df = df.dropna()\n",
    "\n",
    "    df = df.withColumnRenamed(\"Median Age\", \"Median_Age\")\n",
    "    df = df.withColumnRenamed(\"Male Population\", \"Male_Population\")\n",
    "    df = df.withColumnRenamed(\"Female Population\", \"Female_Population\")\n",
    "    df = df.withColumnRenamed(\"Total Population\", \"Total_Population\")\n",
    "    df = df.withColumnRenamed(\"Number of Veterans\", \"Number_of_Veterans\")\n",
    "    df = df.withColumnRenamed(\"Foreign-born\", \"Foreign_born\")\n",
    "    df = df.withColumnRenamed(\"Average Household Size\", \"Average_Household_Size\")\n",
    "    df = df.withColumnRenamed(\"State Code\", \"State_Code\")\n",
    "    \n",
    "    # Calculate the mean values of the columns\n",
    "    Male_mean = df.select(mean(\"Male_Population\")).collect()[0][0]\n",
    "    Female_mean = df.select(mean(\"Female_Population\")).collect()[0][0]\n",
    "    Veterans_mean = df.select(mean(\"Number_of_Veterans\")).collect()[0][0]\n",
    "    Foreign_mean = df.select(mean(\"Foreign_born\")).collect()[0][0]\n",
    "    Household_mean = df.select(mean(\"Average_Household_Size\")).collect()[0][0]\n",
    "\n",
    "    # Fill missing values in the columns with the calculated mean values\n",
    "    df = df.na.fill(Male_mean, [\"Male_Population\"])\n",
    "    df = df.na.fill(Female_mean, [\"Female_Population\"])\n",
    "    df = df.na.fill(Veterans_mean, [\"Number_of_Veterans\"])\n",
    "    df = df.na.fill(Foreign_mean, [\"Foreign_born\"])\n",
    "    df = df.na.fill(Household_mean, [\"Average_Household_Size\"])\n",
    "    \n",
    "    return df"
   ]
  },
  {
   "cell_type": "code",
   "execution_count": null,
   "metadata": {},
   "outputs": [],
   "source": [
    "# Clean the data from the function\n",
    "city_df = clean_city_data(city_df)"
   ]
  },
  {
   "cell_type": "code",
   "execution_count": null,
   "metadata": {},
   "outputs": [],
   "source": [
    "# Counting the null values for each row in the df after cleaning\n",
    "city_df.select([count(when(col(colname).isNull(),1)).alias(colname) for colname in city_df.columns]).toPandas().head()"
   ]
  },
  {
   "cell_type": "code",
   "execution_count": null,
   "metadata": {},
   "outputs": [],
   "source": [
    "# Counting the rows after cleaning\n",
    "city_df.count()"
   ]
  },
  {
   "cell_type": "code",
   "execution_count": null,
   "metadata": {},
   "outputs": [],
   "source": [
    "# Folder simulating an S3 bucket\n",
    "s3_city = 'data/S3bucket_temp/clean_city_data/'"
   ]
  },
  {
   "cell_type": "code",
   "execution_count": null,
   "metadata": {},
   "outputs": [],
   "source": [
    "# Save to parquet\n",
    "city_df.write.format('parquet').mode('overwrite').save(s3_city)"
   ]
  },
  {
   "cell_type": "markdown",
   "metadata": {},
   "source": [
    "### Cleaning Airport Code Table"
   ]
  },
  {
   "cell_type": "code",
   "execution_count": null,
   "metadata": {},
   "outputs": [],
   "source": [
    "# Counting the rows before cleaning\n",
    "airport_codes_df.count()"
   ]
  },
  {
   "cell_type": "code",
   "execution_count": null,
   "metadata": {},
   "outputs": [],
   "source": [
    "# Counting the null values for each row in the df before cleaning\n",
    "airport_codes_df.select([count(when(col(colname).isNull(),1)).alias(colname) for colname in airport_codes_df.columns]).toPandas().head()"
   ]
  },
  {
   "cell_type": "code",
   "execution_count": null,
   "metadata": {},
   "outputs": [],
   "source": [
    "def clean_airport_codes_data(df):\n",
    "    # Drops duplicates\n",
    "    df = df.dropDuplicates()\n",
    "    \n",
    "    # Drops the null values\n",
    "    df = df.dropna()\n",
    "    \n",
    "    # Calculate the mean value of the column\n",
    "    elevation_mean = df.select(mean(\"elevation_ft\")).collect()[0][0]\n",
    "\n",
    "    # Fill missing values in the column with the calculated mean value\n",
    "    df = df.na.fill(elevation_mean, [\"elevation_ft\"])\n",
    "    \n",
    "    return df"
   ]
  },
  {
   "cell_type": "code",
   "execution_count": null,
   "metadata": {},
   "outputs": [],
   "source": [
    "# Clean the data from the function\n",
    "airport_codes_df = clean_airport_codes_data(airport_codes_df)"
   ]
  },
  {
   "cell_type": "code",
   "execution_count": null,
   "metadata": {},
   "outputs": [],
   "source": [
    "# Counting the null values for each row in the df after cleaning\n",
    "airport_codes_df.select([count(when(col(colname).isNull(),1)).alias(colname) for colname in airport_codes_df.columns]).toPandas().head()"
   ]
  },
  {
   "cell_type": "code",
   "execution_count": null,
   "metadata": {},
   "outputs": [],
   "source": [
    "# Counting the rows after cleaning\n",
    "airport_codes_df.count()"
   ]
  },
  {
   "cell_type": "code",
   "execution_count": null,
   "metadata": {},
   "outputs": [],
   "source": [
    "# Folder simulating an S3 bucket\n",
    "s3_airport = 'data/S3bucket_temp/clean_airport_data/'"
   ]
  },
  {
   "cell_type": "code",
   "execution_count": null,
   "metadata": {},
   "outputs": [],
   "source": [
    "# Save to parquet\n",
    "airport_codes_df.write.format('parquet').mode('overwrite').save(s3_airport)"
   ]
  },
  {
   "attachments": {
    "image.png": {
     "image/png": "[encoded data removed]"
    }
   },
   "cell_type": "markdown",
   "metadata": {},
   "source": [
    "### Step 3: Define the Data Model\n",
    "#### 3.1 Conceptual Data Model\n",
    "Map out the conceptual data model and explain why you chose that model\n",
    "\n",
    "#### The schema for fact and dimensional tables from immigration database\n",
    "\n",
    "\n",
    "![image.png](attachment:image.png)\n",
    "\n",
    "- I chose this model to simplify the table for user to get Querys from it easily.\n",
    "\n",
    "\n",
    "#### 3.2 Mapping Out Data Pipelines\n",
    "List the steps necessary to pipeline the data into the chosen data model\n",
    "\n",
    "    dimentional tables:\n",
    "        1- visa_table\n",
    "\n",
    "        2- arrival_table \n",
    "\n",
    "        3- time_table \n",
    "     fact table: \n",
    "        - i94_fact_table\n",
    " "
   ]
  },
  {
   "cell_type": "markdown",
   "metadata": {},
   "source": [
    "### Step 4: Run Pipelines to Model the Data \n",
    "#### 4.1 Create the data model\n",
    "Build the data pipelines to create the data model."
   ]
  },
  {
   "cell_type": "code",
   "execution_count": null,
   "metadata": {},
   "outputs": [],
   "source": [
    "# Reading credentials and configuration from file\n",
    "config = configparser.ConfigParser()\n",
    "\n",
    "config.read_file(open('config.cfg'))\n",
    "\n",
    "KEY     = config['AWS']['AWS_ACCESS_KEY_ID']\n",
    "SECRET  = config['AWS']['AWS_SECRET_ACCESS_KEY']\n",
    "\n",
    "S3_BUCKET   = config['S3']['S3_bucket']"
   ]
  },
  {
   "cell_type": "code",
   "execution_count": null,
   "metadata": {},
   "outputs": [],
   "source": [
    "s3 = boto3.resource('s3',\n",
    "                    region_name=\"us-west-2\",\n",
    "                    aws_access_key_id     = KEY,\n",
    "                    aws_secret_access_key = SECRET)\n",
    "\n",
    "try:\n",
    "    s3.create_bucket(Bucket=S3_BUCKET, CreateBucketConfiguration={\n",
    "                    'LocationConstraint': 'us-west-2'})\n",
    "except Exception as e:\n",
    "    print(e)"
   ]
  },
  {
   "cell_type": "code",
   "execution_count": null,
   "metadata": {},
   "outputs": [],
   "source": [
    "def process_immigration_data(df, output_data):\n",
    "    \n",
    "    # extract columns for visa table\n",
    "    visa_table = df['i94visa', 'visatype', 'visapost']\n",
    "    visa_table = visa_table.withColumn('visa_id', monotonically_increasing_id())\n",
    "    # write visa table to parquet files\n",
    "    visa_table.write.format('parquet').mode('overwrite').save(output_data)\n",
    "\n",
    "    # extract columns for arrival table\n",
    "    arrival_table = df['entdepa', 'entdepd', 'entdepu', 'matflag', 'airline', 'fltno']\n",
    "    arrival_table = arrival_table.withColumn('arrival_id', monotonically_increasing_id())\n",
    "    # write arrival table to parquet files\n",
    "    arrival_table.write.format('parquet').mode('overwrite').save(output_data)\n",
    "\n",
    "    # extract columns for time table\n",
    "    time_table = df['added_date', 'admission_date', 'arrival_date', 'departure_date']\n",
    "    time_table = time_table.withColumn('time_id', monotonically_increasing_id())\n",
    "    # write time table to parquet files\n",
    "    time_table.write.format('parquet').mode('overwrite').save(output_data)\n",
    "    \n",
    "    i94_fact_table = df['cicid', 'visa_id', 'flight_id', 'arrival_id', 'time_id',\n",
    "                        'i94yr', 'i94mon', 'i94cit', 'i94res', 'i94port', 'i94mode',\n",
    "                        'i94addr', 'i94bir', 'occup', 'biryear', 'gender', 'insnum','admnum', 'count']\n",
    "    i94_fact_table.write.format('parquet').mode('overwrite').save(output_data)\n",
    "    \n",
    "    return visa_table, arrival_table, time_table, i94_fact_table\n",
    "    "
   ]
  },
  {
   "cell_type": "code",
   "execution_count": null,
   "metadata": {},
   "outputs": [],
   "source": [
    "output_data = \"data/output/\"\n",
    "process_immigration_data(immigration_df, output_data)"
   ]
  },
  {
   "cell_type": "markdown",
   "metadata": {},
   "source": [
    "#### 4.2 Data Quality Checks\n",
    "Explain the data quality checks you'll perform to ensure the pipeline ran as expected. These could include:\n",
    " * Integrity constraints on the relational database (e.g., unique key, data type, etc.)\n",
    " * Unit tests for the scripts to ensure they are doing the right thing\n",
    " * Source/Count checks to ensure completeness\n",
    " \n",
    "Run Quality Checks"
   ]
  },
  {
   "cell_type": "markdown",
   "metadata": {},
   "source": [
    "- The query-in-place concept implemented here uses a very short pipeline, data are loaded from S3 and after a cleaning process are saved as parquet. Quality of the data is guaranteed by design."
   ]
  },
  {
   "cell_type": "code",
   "execution_count": null,
   "metadata": {},
   "outputs": [],
   "source": [
    "#Counting visa_table to ensure all rows inserted in it\n",
    "visa_table.count()"
   ]
  },
  {
   "cell_type": "code",
   "execution_count": 56,
   "metadata": {},
   "outputs": [],
   "source": [
    "result = spark.sql(\"SELECT * FROM visa_table\")\n",
    "result"
   ]
  },
  {
   "cell_type": "code",
   "execution_count": null,
   "metadata": {},
   "outputs": [],
   "source": [
    "#checks quality for Temp_df\n",
    "Temp_df.drop_duplicates().count() == Temp_df.count()"
   ]
  },
  {
   "cell_type": "code",
   "execution_count": null,
   "metadata": {},
   "outputs": [],
   "source": [
    "#checks quality for city_df\n",
    "city_df.drop_duplicates().count() == city_df.count()"
   ]
  },
  {
   "cell_type": "code",
   "execution_count": null,
   "metadata": {},
   "outputs": [],
   "source": [
    "#checks quality for airport_codes_df\n",
    "airport_codes_df.drop_duplicates().count() == airport_codes_df.count()"
   ]
  },
  {
   "cell_type": "markdown",
   "metadata": {},
   "source": [
    "#### 4.3 Data dictionary \n",
    "Create a data dictionary for your data model. For each field, provide a brief description of what the data is and where it came from. You can include the data dictionary in the notebook or in a separate file."
   ]
  },
  {
   "cell_type": "markdown",
   "metadata": {},
   "source": [
    "#### I94 Immigration Data:\n",
    "\n",
    "cicid -> Unique record ID\n",
    "\n",
    "i94yr -> 4 digit year\n",
    "\n",
    "i94mon -> Numeric month\n",
    "\n",
    "i94cit -> 3 digit code for immigrant country of birth\n",
    "\n",
    "i94res -> 3 digit code for immigrant country of residence\n",
    "\n",
    "i94port -> Port of admission\n",
    "\n",
    "arrdate\t-> Arrival Date in the USA\n",
    "\n",
    "i94mode\t-> Mode of transportation\n",
    "\n",
    "i94addr\t-> USA State of arrival\n",
    "\n",
    "depdate\t-> Departure Date from the USA\n",
    "\n",
    "i94bir\t-> Age of Respondent in Years\n",
    "\n",
    "i94visa\t-> Visa codes collapsed into three categories\n",
    "\n",
    "count\t-> Field used for summary statistics\n",
    "\n",
    "dtadfile -> Character Date Field - Date added to I-94 Files\n",
    "\n",
    "visapost ->Department of State where where Visa was issued\n",
    "\n",
    "occup -> Occupation that will be performed in U.S\n",
    "\n",
    "entdepa\t-> Arrival Flag\n",
    "\n",
    "entdepd\t-> Departure Flag\n",
    "\n",
    "entdepu\t-> Update Flag\n",
    "\n",
    "matflag\t-> Match flag: arrival and departure records\n",
    "\n",
    "biryear\t-> 4 digit year of birth\n",
    "\n",
    "dtaddto\t-> Character Date Field\n",
    "\n",
    "gender -> Non-immigrant sex\n",
    "\n",
    "insnum -> INS number\n",
    "\n",
    "airline\t-> Airline used to arrive in U.S.\n",
    "\n",
    "admnum\t-> Admission Number\n",
    "\n",
    "fltno -> Flight number of Airline used to arrive in U.S.\n",
    "\n",
    "visatype -> Class of admission legally admitting to temporarily stay in U.S\n",
    "\n",
    "\n",
    "----------------------------------------------------------------------------\n",
    "\n",
    "#### Temperature Data:\n",
    "\n",
    "dt -> Date\n",
    "\n",
    "AverageTemperature -> Global average land temperature in celsius\n",
    "\n",
    "AverageTemperatureUncertainty -> confidence interval around the average\n",
    "\n",
    "City -> Name of City\n",
    "\n",
    "Country -> Name of Country\n",
    "\n",
    "Latitude -> City Latitude\n",
    "\n",
    "Longitude -> City Longitude\n",
    "\n",
    "\n",
    "-----------------------------------------------------------------------------\n",
    "\n",
    "\n",
    "#### U.S. City Demographic Data:\n",
    "\n",
    "City -> City Name\n",
    "\n",
    "State -> US State where city is located\n",
    "\n",
    "Median Age -> Median age of the population\n",
    "\n",
    "Male Population\t-> Count of male population\n",
    "\n",
    "Female Population -> Count of female population\n",
    "\n",
    "Total Population -> Count of total population\n",
    "\n",
    "Number of Veterans -> Count of total Veterans\n",
    "\n",
    "Foreign born -> Count of Foreign\n",
    "\n",
    "Average Household Size -> Average city household size\n",
    "\n",
    "State Code -> Code of the US state\n",
    "\n",
    "Race -> Respondent race\n",
    "\n",
    "Count -> Count of city's individual per race"
   ]
  },
  {
   "cell_type": "markdown",
   "metadata": {},
   "source": [
    "#### Step 5: Complete Project Write Up\n",
    "* Clearly state the rationale for the choice of tools and technologies for the project.\n",
    "* Propose how often the data should be updated and why.\n",
    "* Write a description of how you would approach the problem differently under the following scenarios:\n",
    " * The data was increased by 100x.\n",
    " * The data populates a dashboard that must be updated on a daily basis by 7am every day.\n",
    " * The database needed to be accessed by 100+ people."
   ]
  },
  {
   "cell_type": "markdown",
   "metadata": {},
   "source": [
    "#### The data was increased by 100x.\n",
    "- For such a scenario, I would consider using an Amazon EMR to run the ETL, and upload the data directly to the Amazon S3. Besides this, I would partition the tables. For example, I would partition the country_temperature_evolution table according to the country.\n",
    "\n",
    "#### The data populates a dashboard that must be updated on a daily basis by 7am every day.\n",
    "- For this situation, the ETL can be refactor to work with Apache Airflow, because it would be much easier to automate the execution of the pipeline.\n",
    "\n",
    "#### The database needed to be accessed by 100+ people.\n",
    "- If the database starts to be used intensively, I would consider moving the data to Amazon Redshift."
   ]
  },
  {
   "cell_type": "code",
   "execution_count": null,
   "metadata": {},
   "outputs": [],
   "source": []
  }
 ],
 "metadata": {
  "kernelspec": {
   "display_name": "Python 3",
   "language": "python",
   "name": "python3"
  },
  "language_info": {
   "codemirror_mode": {
    "name": "ipython",
    "version": 3
   },
   "file_extension": ".py",
   "mimetype": "text/x-python",
   "name": "python",
   "nbconvert_exporter": "python",
   "pygments_lexer": "ipython3",
   "version": "3.6.3"
  }
 },
 "nbformat": 4,
 "nbformat_minor": 4
}
